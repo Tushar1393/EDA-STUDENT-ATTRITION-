{
 "cells": [
  {
   "cell_type": "code",
   "execution_count": 1,
   "metadata": {},
   "outputs": [
    {
     "name": "stderr",
     "output_type": "stream",
     "text": [
      "In C:\\Users\\acer\\Anaconda3\\lib\\site-packages\\matplotlib\\mpl-data\\stylelib\\_classic_test.mplstyle: \n",
      "The text.latex.preview rcparam was deprecated in Matplotlib 3.3 and will be removed two minor releases later.\n",
      "In C:\\Users\\acer\\Anaconda3\\lib\\site-packages\\matplotlib\\mpl-data\\stylelib\\_classic_test.mplstyle: \n",
      "The mathtext.fallback_to_cm rcparam was deprecated in Matplotlib 3.3 and will be removed two minor releases later.\n",
      "In C:\\Users\\acer\\Anaconda3\\lib\\site-packages\\matplotlib\\mpl-data\\stylelib\\_classic_test.mplstyle: Support for setting the 'mathtext.fallback_to_cm' rcParam is deprecated since 3.3 and will be removed two minor releases later; use 'mathtext.fallback : 'cm' instead.\n",
      "In C:\\Users\\acer\\Anaconda3\\lib\\site-packages\\matplotlib\\mpl-data\\stylelib\\_classic_test.mplstyle: \n",
      "The validate_bool_maybe_none function was deprecated in Matplotlib 3.3 and will be removed two minor releases later.\n",
      "In C:\\Users\\acer\\Anaconda3\\lib\\site-packages\\matplotlib\\mpl-data\\stylelib\\_classic_test.mplstyle: \n",
      "The savefig.jpeg_quality rcparam was deprecated in Matplotlib 3.3 and will be removed two minor releases later.\n",
      "In C:\\Users\\acer\\Anaconda3\\lib\\site-packages\\matplotlib\\mpl-data\\stylelib\\_classic_test.mplstyle: \n",
      "The keymap.all_axes rcparam was deprecated in Matplotlib 3.3 and will be removed two minor releases later.\n",
      "In C:\\Users\\acer\\Anaconda3\\lib\\site-packages\\matplotlib\\mpl-data\\stylelib\\_classic_test.mplstyle: \n",
      "The animation.avconv_path rcparam was deprecated in Matplotlib 3.3 and will be removed two minor releases later.\n",
      "In C:\\Users\\acer\\Anaconda3\\lib\\site-packages\\matplotlib\\mpl-data\\stylelib\\_classic_test.mplstyle: \n",
      "The animation.avconv_args rcparam was deprecated in Matplotlib 3.3 and will be removed two minor releases later.\n"
     ]
    }
   ],
   "source": [
    "import pandas as pd\n",
    "import numpy as np\n",
    "import matplotlib.pyplot as plt\n",
    "import seaborn as sns\n",
    "from scipy import stats"
   ]
  },
  {
   "cell_type": "code",
   "execution_count": 4,
   "metadata": {},
   "outputs": [
    {
     "data": {
      "text/plain": [
       "<function nt.chdir(path)>"
      ]
     },
     "execution_count": 4,
     "metadata": {},
     "output_type": "execute_result"
    }
   ],
   "source": [
    "import os \n",
    "os.getcwd()\n",
    "\n",
    "os.chdir('c:\\Tushar\\PYTHON FOR ML\\CP\\COMPLETED')\n",
    "os.chdir"
   ]
  },
  {
   "cell_type": "code",
   "execution_count": 5,
   "metadata": {},
   "outputs": [],
   "source": [
    "df = pd.read_excel('Student Applications & Performance.xlsx')"
   ]
  },
  {
   "cell_type": "code",
   "execution_count": 6,
   "metadata": {},
   "outputs": [
    {
     "data": {
      "text/html": [
       "<div>\n",
       "<style scoped>\n",
       "    .dataframe tbody tr th:only-of-type {\n",
       "        vertical-align: middle;\n",
       "    }\n",
       "\n",
       "    .dataframe tbody tr th {\n",
       "        vertical-align: top;\n",
       "    }\n",
       "\n",
       "    .dataframe thead th {\n",
       "        text-align: right;\n",
       "    }\n",
       "</style>\n",
       "<table border=\"1\" class=\"dataframe\">\n",
       "  <thead>\n",
       "    <tr style=\"text-align: right;\">\n",
       "      <th></th>\n",
       "      <th>STUDENT IDENTIFIER</th>\n",
       "      <th>STDNT_AGE</th>\n",
       "      <th>STDNT_GENDER</th>\n",
       "      <th>STDNT_BACKGROUND</th>\n",
       "      <th>IN_STATE_FLAG</th>\n",
       "      <th>INTERNATIONAL_STS</th>\n",
       "      <th>STDNT_MAJOR</th>\n",
       "      <th>STDNT_MINOR</th>\n",
       "      <th>STDNT_TEST_ENTRANCE1</th>\n",
       "      <th>STDNT_TEST_ENTRANCE2</th>\n",
       "      <th>...</th>\n",
       "      <th>DEGREE_GROUP_CD</th>\n",
       "      <th>DEGREE_GROUP_DESC</th>\n",
       "      <th>FIRST_TERM_ATTEMPT_HRS</th>\n",
       "      <th>FIRST_TERM_EARNED_HRS</th>\n",
       "      <th>SECOND_TERM_ATTEMPT_HRS</th>\n",
       "      <th>SECOND_TERM_EARNED_HRS</th>\n",
       "      <th>GROSS_FIN_NEED</th>\n",
       "      <th>COST_OF_ATTEND</th>\n",
       "      <th>EST_FAM_CONTRIBUTION</th>\n",
       "      <th>UNMET_NEED</th>\n",
       "    </tr>\n",
       "  </thead>\n",
       "  <tbody>\n",
       "    <tr>\n",
       "      <td>0</td>\n",
       "      <td>7808615</td>\n",
       "      <td>18</td>\n",
       "      <td>F</td>\n",
       "      <td>BGD 1</td>\n",
       "      <td>Y</td>\n",
       "      <td>N</td>\n",
       "      <td>Undeclared</td>\n",
       "      <td>N</td>\n",
       "      <td>NaN</td>\n",
       "      <td>1150.0</td>\n",
       "      <td>...</td>\n",
       "      <td>B</td>\n",
       "      <td>Bachelors</td>\n",
       "      <td>16</td>\n",
       "      <td>16</td>\n",
       "      <td>14.0</td>\n",
       "      <td>14.0</td>\n",
       "      <td>0</td>\n",
       "      <td>0</td>\n",
       "      <td>0</td>\n",
       "      <td>0.0</td>\n",
       "    </tr>\n",
       "    <tr>\n",
       "      <td>1</td>\n",
       "      <td>7830063</td>\n",
       "      <td>19</td>\n",
       "      <td>F</td>\n",
       "      <td>BGD 1</td>\n",
       "      <td>N</td>\n",
       "      <td>N</td>\n",
       "      <td>Undeclared</td>\n",
       "      <td>N</td>\n",
       "      <td>26.0</td>\n",
       "      <td>NaN</td>\n",
       "      <td>...</td>\n",
       "      <td>B</td>\n",
       "      <td>Bachelors</td>\n",
       "      <td>18</td>\n",
       "      <td>18</td>\n",
       "      <td>18.0</td>\n",
       "      <td>18.0</td>\n",
       "      <td>570000</td>\n",
       "      <td>1355760</td>\n",
       "      <td>785760</td>\n",
       "      <td>459300.0</td>\n",
       "    </tr>\n",
       "    <tr>\n",
       "      <td>2</td>\n",
       "      <td>7847538</td>\n",
       "      <td>18</td>\n",
       "      <td>M</td>\n",
       "      <td>BGD 1</td>\n",
       "      <td>Y</td>\n",
       "      <td>N</td>\n",
       "      <td>Mathematics</td>\n",
       "      <td>N</td>\n",
       "      <td>NaN</td>\n",
       "      <td>1020.0</td>\n",
       "      <td>...</td>\n",
       "      <td>B</td>\n",
       "      <td>Bachelors</td>\n",
       "      <td>15</td>\n",
       "      <td>15</td>\n",
       "      <td>14.0</td>\n",
       "      <td>14.0</td>\n",
       "      <td>0</td>\n",
       "      <td>0</td>\n",
       "      <td>0</td>\n",
       "      <td>0.0</td>\n",
       "    </tr>\n",
       "    <tr>\n",
       "      <td>3</td>\n",
       "      <td>8006429</td>\n",
       "      <td>18</td>\n",
       "      <td>M</td>\n",
       "      <td>BGD 1</td>\n",
       "      <td>Y</td>\n",
       "      <td>N</td>\n",
       "      <td>Undeclared</td>\n",
       "      <td>N</td>\n",
       "      <td>NaN</td>\n",
       "      <td>1210.0</td>\n",
       "      <td>...</td>\n",
       "      <td>B</td>\n",
       "      <td>Bachelors</td>\n",
       "      <td>13</td>\n",
       "      <td>13</td>\n",
       "      <td>14.0</td>\n",
       "      <td>14.0</td>\n",
       "      <td>0</td>\n",
       "      <td>0</td>\n",
       "      <td>0</td>\n",
       "      <td>0.0</td>\n",
       "    </tr>\n",
       "    <tr>\n",
       "      <td>4</td>\n",
       "      <td>7962680</td>\n",
       "      <td>18</td>\n",
       "      <td>F</td>\n",
       "      <td>BGD 1</td>\n",
       "      <td>Y</td>\n",
       "      <td>N</td>\n",
       "      <td>Art</td>\n",
       "      <td>N</td>\n",
       "      <td>NaN</td>\n",
       "      <td>1200.0</td>\n",
       "      <td>...</td>\n",
       "      <td>B</td>\n",
       "      <td>Bachelors</td>\n",
       "      <td>12</td>\n",
       "      <td>12</td>\n",
       "      <td>12.0</td>\n",
       "      <td>12.0</td>\n",
       "      <td>835920</td>\n",
       "      <td>1355760</td>\n",
       "      <td>519840</td>\n",
       "      <td>278340.0</td>\n",
       "    </tr>\n",
       "  </tbody>\n",
       "</table>\n",
       "<p>5 rows × 56 columns</p>\n",
       "</div>"
      ],
      "text/plain": [
       "   STUDENT IDENTIFIER  STDNT_AGE STDNT_GENDER STDNT_BACKGROUND IN_STATE_FLAG  \\\n",
       "0             7808615         18            F            BGD 1             Y   \n",
       "1             7830063         19            F            BGD 1             N   \n",
       "2             7847538         18            M            BGD 1             Y   \n",
       "3             8006429         18            M            BGD 1             Y   \n",
       "4             7962680         18            F            BGD 1             Y   \n",
       "\n",
       "  INTERNATIONAL_STS  STDNT_MAJOR STDNT_MINOR  STDNT_TEST_ENTRANCE1  \\\n",
       "0                 N   Undeclared           N                   NaN   \n",
       "1                 N   Undeclared           N                  26.0   \n",
       "2                 N  Mathematics           N                   NaN   \n",
       "3                 N   Undeclared           N                   NaN   \n",
       "4                 N          Art           N                   NaN   \n",
       "\n",
       "   STDNT_TEST_ENTRANCE2  ...  DEGREE_GROUP_CD  DEGREE_GROUP_DESC  \\\n",
       "0                1150.0  ...                B          Bachelors   \n",
       "1                   NaN  ...                B          Bachelors   \n",
       "2                1020.0  ...                B          Bachelors   \n",
       "3                1210.0  ...                B          Bachelors   \n",
       "4                1200.0  ...                B          Bachelors   \n",
       "\n",
       "  FIRST_TERM_ATTEMPT_HRS FIRST_TERM_EARNED_HRS SECOND_TERM_ATTEMPT_HRS  \\\n",
       "0                     16                    16                    14.0   \n",
       "1                     18                    18                    18.0   \n",
       "2                     15                    15                    14.0   \n",
       "3                     13                    13                    14.0   \n",
       "4                     12                    12                    12.0   \n",
       "\n",
       "  SECOND_TERM_EARNED_HRS GROSS_FIN_NEED COST_OF_ATTEND EST_FAM_CONTRIBUTION  \\\n",
       "0                   14.0              0              0                    0   \n",
       "1                   18.0         570000        1355760               785760   \n",
       "2                   14.0              0              0                    0   \n",
       "3                   14.0              0              0                    0   \n",
       "4                   12.0         835920        1355760               519840   \n",
       "\n",
       "  UNMET_NEED  \n",
       "0        0.0  \n",
       "1   459300.0  \n",
       "2        0.0  \n",
       "3        0.0  \n",
       "4   278340.0  \n",
       "\n",
       "[5 rows x 56 columns]"
      ]
     },
     "execution_count": 6,
     "metadata": {},
     "output_type": "execute_result"
    }
   ],
   "source": [
    "df.head()"
   ]
  },
  {
   "cell_type": "code",
   "execution_count": 7,
   "metadata": {},
   "outputs": [
    {
     "data": {
      "text/plain": [
       "(3400, 56)"
      ]
     },
     "execution_count": 7,
     "metadata": {},
     "output_type": "execute_result"
    }
   ],
   "source": [
    "df.shape"
   ]
  },
  {
   "cell_type": "code",
   "execution_count": 10,
   "metadata": {},
   "outputs": [
    {
     "data": {
      "text/plain": [
       "STUDENT IDENTIFIER             0\n",
       "STDNT_AGE                      0\n",
       "STDNT_GENDER                   0\n",
       "STDNT_BACKGROUND               0\n",
       "IN_STATE_FLAG                  0\n",
       "INTERNATIONAL_STS              0\n",
       "STDNT_MAJOR                    0\n",
       "STDNT_MINOR                    0\n",
       "STDNT_TEST_ENTRANCE1        2294\n",
       "STDNT_TEST_ENTRANCE2         908\n",
       "STDNT_TEST_ENTRANCE_COMB     518\n",
       "FIRST_TERM                     0\n",
       "CORE_COURSE_NAME_1_F           0\n",
       "CORE_COURSE_GRADE_1_F          0\n",
       "CORE_COURSE_NAME_2_F          99\n",
       "CORE_COURSE_GRADE_2_F         99\n",
       "CORE_COURSE_NAME_3_F         565\n",
       "CORE_COURSE_GRADE_3_F        565\n",
       "CORE_COURSE_NAME_4_F        1597\n",
       "CORE_COURSE_GRADE_4_F       1597\n",
       "CORE_COURSE_NAME_5_F        2755\n",
       "CORE_COURSE_GRADE_5_F       2755\n",
       "CORE_COURSE_NAME_6_F        3272\n",
       "CORE_COURSE_GRADE_6_F       3272\n",
       "SECOND_TERM                    0\n",
       "CORE_COURSE_NAME_1_S         157\n",
       "CORE_COURSE_GRADE_1_S        232\n",
       "CORE_COURSE_NAME_2_S         439\n",
       "CORE_COURSE_GRADE_2_S        439\n",
       "CORE_COURSE_NAME_3_S        1038\n",
       "CORE_COURSE_GRADE_3_S       1038\n",
       "CORE_COURSE_NAME_4_S        2045\n",
       "CORE_COURSE_GRADE_4_S       2045\n",
       "CORE_COURSE_NAME_5_S        2950\n",
       "CORE_COURSE_GRADE_5_S       2950\n",
       "CORE_COURSE_NAME_6_S        3319\n",
       "CORE_COURSE_GRADE_6_S       3319\n",
       "HOUSING_STS                    0\n",
       "RETURNED_2ND_YR                0\n",
       "DISTANCE_FROM_HOME            25\n",
       "HIGH_SCHL_GPA                 53\n",
       "HIGH_SCHL_NAME                 1\n",
       "FATHER_HI_EDU_CD             432\n",
       "FATHER_HI_EDU_DESC             0\n",
       "MOTHER_HI_EDU_CD             489\n",
       "MOTHER_HI_EDU_DESC             0\n",
       "DEGREE_GROUP_CD                0\n",
       "DEGREE_GROUP_DESC              0\n",
       "FIRST_TERM_ATTEMPT_HRS         0\n",
       "FIRST_TERM_EARNED_HRS          0\n",
       "SECOND_TERM_ATTEMPT_HRS      206\n",
       "SECOND_TERM_EARNED_HRS       209\n",
       "GROSS_FIN_NEED                 0\n",
       "COST_OF_ATTEND                 0\n",
       "EST_FAM_CONTRIBUTION           0\n",
       "UNMET_NEED                     0\n",
       "dtype: int64"
      ]
     },
     "execution_count": 10,
     "metadata": {},
     "output_type": "execute_result"
    }
   ],
   "source": [
    "df.isnull().sum()"
   ]
  },
  {
   "cell_type": "code",
   "execution_count": 12,
   "metadata": {},
   "outputs": [
    {
     "data": {
      "text/plain": [
       "1    2677\n",
       "0     723\n",
       "Name: RETURNED_2ND_YR, dtype: int64"
      ]
     },
     "execution_count": 12,
     "metadata": {},
     "output_type": "execute_result"
    }
   ],
   "source": [
    "df['RETURNED_2ND_YR'].value_counts()"
   ]
  },
  {
   "cell_type": "code",
   "execution_count": 13,
   "metadata": {},
   "outputs": [],
   "source": [
    "# Now Creating the target variable i.e Returned 2nd year.\n",
    "\n",
    "# Creating new feature as attrition from the variable\n",
    "\n",
    "df['Attrition']=df['RETURNED_2ND_YR']"
   ]
  },
  {
   "cell_type": "code",
   "execution_count": 14,
   "metadata": {},
   "outputs": [],
   "source": [
    "# since we have created the new feature called attrition so need to drop the returned 2nd yr \n",
    "\n",
    "df.drop('RETURNED_2ND_YR',axis=1,inplace=True)"
   ]
  },
  {
   "cell_type": "code",
   "execution_count": 15,
   "metadata": {},
   "outputs": [],
   "source": [
    "# converting the data to 1n0 , 1 represent stud discon and 0 who cont\n",
    "\n",
    "df['Attrition'] = df['Attrition'].apply(lambda x: 0 if x == 1 else 1)"
   ]
  },
  {
   "cell_type": "code",
   "execution_count": 16,
   "metadata": {},
   "outputs": [
    {
     "data": {
      "text/plain": [
       "0    2677\n",
       "1     723\n",
       "Name: Attrition, dtype: int64"
      ]
     },
     "execution_count": 16,
     "metadata": {},
     "output_type": "execute_result"
    }
   ],
   "source": [
    "# lets check the count of attrition \n",
    "df['Attrition'].value_counts()\n",
    "\n",
    "# 0 Continued \n",
    "# 1 discontinued"
   ]
  },
  {
   "cell_type": "code",
   "execution_count": 17,
   "metadata": {},
   "outputs": [],
   "source": [
    "df.to_csv('Student Attrition.csv')"
   ]
  },
  {
   "cell_type": "markdown",
   "metadata": {},
   "source": [
    "# EDA"
   ]
  },
  {
   "cell_type": "markdown",
   "metadata": {},
   "source": [
    "## Target - Attrition"
   ]
  },
  {
   "cell_type": "code",
   "execution_count": 18,
   "metadata": {},
   "outputs": [
    {
     "data": {
      "text/plain": [
       "0    2677\n",
       "1     723\n",
       "Name: Attrition, dtype: int64"
      ]
     },
     "execution_count": 18,
     "metadata": {},
     "output_type": "execute_result"
    }
   ],
   "source": [
    "df['Attrition'].value_counts()"
   ]
  },
  {
   "cell_type": "code",
   "execution_count": 19,
   "metadata": {},
   "outputs": [
    {
     "data": {
      "text/plain": [
       "0    0.787353\n",
       "1    0.212647\n",
       "Name: Attrition, dtype: float64"
      ]
     },
     "execution_count": 19,
     "metadata": {},
     "output_type": "execute_result"
    }
   ],
   "source": [
    "# target is imbalance, need to treat it further process.\n",
    "\n",
    "df['Attrition'].value_counts(normalize=True)"
   ]
  },
  {
   "cell_type": "markdown",
   "metadata": {},
   "source": [
    "## STUDNET AGE"
   ]
  },
  {
   "cell_type": "code",
   "execution_count": 20,
   "metadata": {},
   "outputs": [
    {
     "name": "stderr",
     "output_type": "stream",
     "text": [
      "C:\\Users\\acer\\Anaconda3\\lib\\site-packages\\seaborn\\_decorators.py:43: FutureWarning: Pass the following variable as a keyword arg: x. From version 0.12, the only valid positional argument will be `data`, and passing other arguments without an explicit keyword will result in an error or misinterpretation.\n",
      "  FutureWarning\n"
     ]
    },
    {
     "data": {
      "image/png": "[encoded data removed]",
      "text/plain": [
       "<Figure size 1152x504 with 2 Axes>"
      ]
     },
     "metadata": {
      "needs_background": "light"
     },
     "output_type": "display_data"
    }
   ],
   "source": [
    "plt.figure(figsize=(16,7))\n",
    "\n",
    "plt.subplot(1,2,1)\n",
    "sns.countplot(df['Attrition'])\n",
    "plt.title('Bar graph')\n",
    "\n",
    "plt.subplot(1,2,2)\n",
    "plt.pie(df['Attrition'].value_counts(),explode=[0.05,0], colors=[ 'lightskyblue', 'orange'], labels=['No', 'Yes'], autopct='%.2f%%')\n",
    "plt.title('Pie chart')\n",
    "\n",
    "plt.show()"
   ]
  },
  {
   "cell_type": "code",
   "execution_count": 21,
   "metadata": {},
   "outputs": [
    {
     "data": {
      "text/plain": [
       "count    3400.000000\n",
       "mean       17.994118\n",
       "std         0.552052\n",
       "min        16.000000\n",
       "25%        18.000000\n",
       "50%        18.000000\n",
       "75%        18.000000\n",
       "max        26.000000\n",
       "Name: STDNT_AGE, dtype: float64"
      ]
     },
     "execution_count": 21,
     "metadata": {},
     "output_type": "execute_result"
    }
   ],
   "source": [
    "df['STDNT_AGE'].describe()\n",
    "\n",
    "# As per the observation the interqurtile is same so we cn not use the IQR here.\n",
    "# lets check the age variable through plot"
   ]
  },
  {
   "cell_type": "code",
   "execution_count": 22,
   "metadata": {},
   "outputs": [
    {
     "name": "stderr",
     "output_type": "stream",
     "text": [
      "C:\\Users\\acer\\Anaconda3\\lib\\site-packages\\seaborn\\distributions.py:2619: FutureWarning: `distplot` is a deprecated function and will be removed in a future version. Please adapt your code to use either `displot` (a figure-level function with similar flexibility) or `histplot` (an axes-level function for histograms).\n",
      "  warnings.warn(msg, FutureWarning)\n"
     ]
    },
    {
     "data": {
      "text/plain": [
       "<AxesSubplot:xlabel='STDNT_AGE', ylabel='Density'>"
      ]
     },
     "execution_count": 22,
     "metadata": {},
     "output_type": "execute_result"
    },
    {
     "data": {
      "image/png": "[encoded data removed]",
      "text/plain": [
       "<Figure size 432x288 with 1 Axes>"
      ]
     },
     "metadata": {
      "needs_background": "light"
     },
     "output_type": "display_data"
    }
   ],
   "source": [
    "#As per the plot the mjaority age group of student is from age 17 to 19.\n",
    "\n",
    "sns.distplot(df['STDNT_AGE'])"
   ]
  },
  {
   "cell_type": "code",
   "execution_count": 23,
   "metadata": {},
   "outputs": [
    {
     "data": {
      "text/plain": [
       "Text(0.5, 1.0, 'Count of Age group')"
      ]
     },
     "execution_count": 23,
     "metadata": {},
     "output_type": "execute_result"
    },
    {
     "data": {
      "image/png": "[encoded data removed]",
      "text/plain": [
       "<Figure size 1152x360 with 1 Axes>"
      ]
     },
     "metadata": {
      "needs_background": "light"
     },
     "output_type": "display_data"
    }
   ],
   "source": [
    "# Now lets check the count of age gruop using hist plot\n",
    "\n",
    "plt.figure(figsize=(16,5))\n",
    "sns.histplot(df['STDNT_AGE'], binwidth=0.5)\n",
    "plt.xticks(ticks=np.arange(16.5,27.5,1) , labels=np.arange(16,27))\n",
    "plt.title('Count of Age group')"
   ]
  },
  {
   "cell_type": "code",
   "execution_count": 24,
   "metadata": {},
   "outputs": [
    {
     "data": {
      "image/png": "[encoded data removed]",
      "text/plain": [
       "<Figure size 1152x360 with 1 Axes>"
      ]
     },
     "metadata": {
      "needs_background": "light"
     },
     "output_type": "display_data"
    }
   ],
   "source": [
    "# now need to check the same w.r.t Attrition variable.\n",
    "\n",
    "plt.figure(figsize=(16,5))\n",
    "\n",
    "sns.histplot(data=df, x='STDNT_AGE', hue='Attrition', binwidth=0.5)\n",
    "plt.xticks(ticks=np.arange(16.5,27.5,1) , labels=np.arange(16,27))\n",
    "plt.title('Count of Age group w.r.t Attrition')\n",
    "plt.show()"
   ]
  },
  {
   "cell_type": "code",
   "execution_count": 25,
   "metadata": {},
   "outputs": [
    {
     "name": "stderr",
     "output_type": "stream",
     "text": [
      "C:\\Users\\acer\\Anaconda3\\lib\\site-packages\\seaborn\\_decorators.py:43: FutureWarning: Pass the following variable as a keyword arg: x. From version 0.12, the only valid positional argument will be `data`, and passing other arguments without an explicit keyword will result in an error or misinterpretation.\n",
      "  FutureWarning\n"
     ]
    },
    {
     "data": {
      "text/plain": [
       "<AxesSubplot:xlabel='STDNT_AGE'>"
      ]
     },
     "execution_count": 25,
     "metadata": {},
     "output_type": "execute_result"
    },
    {
     "data": {
      "image/png": "[encoded data removed]",
      "text/plain": [
       "<Figure size 432x288 with 1 Axes>"
      ]
     },
     "metadata": {
      "needs_background": "light"
     },
     "output_type": "display_data"
    }
   ],
   "source": [
    "# checkig for outliers present or not in age variable.\n",
    "\n",
    "sns.boxplot(df['STDNT_AGE'])\n",
    "\n",
    "# as per the plot its is clear that there are outliers prenet in age variable.\n"
   ]
  },
  {
   "cell_type": "code",
   "execution_count": 26,
   "metadata": {},
   "outputs": [
    {
     "data": {
      "text/plain": [
       "18    2860\n",
       "17     309\n",
       "19     190\n",
       "20      14\n",
       "16       8\n",
       "21       7\n",
       "22       4\n",
       "25       3\n",
       "23       3\n",
       "26       1\n",
       "24       1\n",
       "Name: STDNT_AGE, dtype: int64"
      ]
     },
     "execution_count": 26,
     "metadata": {},
     "output_type": "execute_result"
    }
   ],
   "source": [
    "# age count \n",
    "\n",
    "df['STDNT_AGE'].value_counts()"
   ]
  },
  {
   "cell_type": "markdown",
   "metadata": {},
   "source": [
    "## STUDENT GENDER "
   ]
  },
  {
   "cell_type": "code",
   "execution_count": 27,
   "metadata": {},
   "outputs": [
    {
     "data": {
      "text/plain": [
       "F    2140\n",
       "M    1260\n",
       "Name: STDNT_GENDER, dtype: int64"
      ]
     },
     "execution_count": 27,
     "metadata": {},
     "output_type": "execute_result"
    }
   ],
   "source": [
    "# CHecking the gender wise count of student.\n",
    "\n",
    "df['STDNT_GENDER'].value_counts()"
   ]
  },
  {
   "cell_type": "code",
   "execution_count": 28,
   "metadata": {},
   "outputs": [
    {
     "data": {
      "text/plain": [
       "F    62.941176\n",
       "M    37.058824\n",
       "Name: STDNT_GENDER, dtype: float64"
      ]
     },
     "execution_count": 28,
     "metadata": {},
     "output_type": "execute_result"
    }
   ],
   "source": [
    "df['STDNT_GENDER'].value_counts(normalize=True) * 100\n",
    "\n",
    "# the % of female students are more as compared to male students."
   ]
  },
  {
   "cell_type": "code",
   "execution_count": 29,
   "metadata": {},
   "outputs": [
    {
     "name": "stderr",
     "output_type": "stream",
     "text": [
      "C:\\Users\\acer\\Anaconda3\\lib\\site-packages\\seaborn\\_decorators.py:43: FutureWarning: Pass the following variable as a keyword arg: x. From version 0.12, the only valid positional argument will be `data`, and passing other arguments without an explicit keyword will result in an error or misinterpretation.\n",
      "  FutureWarning\n"
     ]
    },
    {
     "data": {
      "text/plain": [
       "Text(0.5, 1.0, 'Bar graph')"
      ]
     },
     "execution_count": 29,
     "metadata": {},
     "output_type": "execute_result"
    },
    {
     "data": {
      "image/png": "[encoded data removed]",
      "text/plain": [
       "<Figure size 360x504 with 1 Axes>"
      ]
     },
     "metadata": {
      "needs_background": "light"
     },
     "output_type": "display_data"
    }
   ],
   "source": [
    "# PLOTING THE ABOVE INFO IN BAR PLOT \n",
    "\n",
    "plt.figure(figsize=(5,7))\n",
    "\n",
    "sns.countplot(df['STDNT_GENDER'])\n",
    "plt.title('Bar graph')"
   ]
  },
  {
   "cell_type": "code",
   "execution_count": 30,
   "metadata": {},
   "outputs": [
    {
     "data": {
      "text/plain": [
       "Text(0.5, 1.0, 'Pie chart')"
      ]
     },
     "execution_count": 30,
     "metadata": {},
     "output_type": "execute_result"
    },
    {
     "data": {
      "image/png": "[encoded data removed]",
      "text/plain": [
       "<Figure size 360x504 with 1 Axes>"
      ]
     },
     "metadata": {},
     "output_type": "display_data"
    }
   ],
   "source": [
    "# PIE CHART \n",
    "\n",
    "plt.figure(figsize=(5,7))\n",
    "plt.pie(df['STDNT_GENDER'].value_counts(),explode=[0.05,0], colors=[ 'lightskyblue', 'orange'], labels=['Female', 'Male'], autopct='%.2f%%')\n",
    "plt.title('Pie chart')\n"
   ]
  },
  {
   "cell_type": "code",
   "execution_count": 31,
   "metadata": {},
   "outputs": [
    {
     "name": "stderr",
     "output_type": "stream",
     "text": [
      "C:\\Users\\acer\\Anaconda3\\lib\\site-packages\\seaborn\\_decorators.py:43: FutureWarning: Pass the following variable as a keyword arg: x. From version 0.12, the only valid positional argument will be `data`, and passing other arguments without an explicit keyword will result in an error or misinterpretation.\n",
      "  FutureWarning\n"
     ]
    },
    {
     "data": {
      "text/plain": [
       "<AxesSubplot:xlabel='STDNT_GENDER', ylabel='count'>"
      ]
     },
     "execution_count": 31,
     "metadata": {},
     "output_type": "execute_result"
    },
    {
     "data": {
      "image/png": "[encoded data removed]",
      "text/plain": [
       "<Figure size 432x288 with 1 Axes>"
      ]
     },
     "metadata": {
      "needs_background": "light"
     },
     "output_type": "display_data"
    }
   ],
   "source": [
    "# count plot w.r.t attrition\n",
    "\n",
    "sns.countplot(df['STDNT_GENDER'], hue=df['Attrition'])\n",
    "\n",
    "# as per the plot female tend to attrition compared to male"
   ]
  },
  {
   "cell_type": "markdown",
   "metadata": {},
   "source": [
    "## STUDENT BACKGROUND "
   ]
  },
  {
   "cell_type": "code",
   "execution_count": 32,
   "metadata": {},
   "outputs": [
    {
     "data": {
      "text/plain": [
       "BGD 1    2082\n",
       "BGD 3     947\n",
       "BGD 4     139\n",
       "BGD 2     106\n",
       "BGD 6      94\n",
       "BGD 7      19\n",
       "BGD 5       8\n",
       "BGD 8       5\n",
       "Name: STDNT_BACKGROUND, dtype: int64"
      ]
     },
     "execution_count": 32,
     "metadata": {},
     "output_type": "execute_result"
    }
   ],
   "source": [
    "# first check the diff background count\n",
    "\n",
    "df['STDNT_BACKGROUND'].value_counts()"
   ]
  },
  {
   "cell_type": "code",
   "execution_count": 33,
   "metadata": {},
   "outputs": [
    {
     "name": "stderr",
     "output_type": "stream",
     "text": [
      "C:\\Users\\acer\\Anaconda3\\lib\\site-packages\\seaborn\\_decorators.py:43: FutureWarning: Pass the following variable as a keyword arg: x. From version 0.12, the only valid positional argument will be `data`, and passing other arguments without an explicit keyword will result in an error or misinterpretation.\n",
      "  FutureWarning\n"
     ]
    },
    {
     "data": {
      "text/plain": [
       "<AxesSubplot:xlabel='STDNT_BACKGROUND', ylabel='count'>"
      ]
     },
     "execution_count": 33,
     "metadata": {},
     "output_type": "execute_result"
    },
    {
     "data": {
      "image/png": "[encoded data removed]",
      "text/plain": [
       "<Figure size 720x432 with 1 Axes>"
      ]
     },
     "metadata": {
      "needs_background": "light"
     },
     "output_type": "display_data"
    }
   ],
   "source": [
    "# Visualize the above count the plot form \n",
    "\n",
    "\n",
    "plt.figure(figsize=(10,6))\n",
    "sns.countplot(df['STDNT_BACKGROUND'])"
   ]
  },
  {
   "cell_type": "code",
   "execution_count": 34,
   "metadata": {},
   "outputs": [
    {
     "name": "stderr",
     "output_type": "stream",
     "text": [
      "C:\\Users\\acer\\Anaconda3\\lib\\site-packages\\seaborn\\_decorators.py:43: FutureWarning: Pass the following variable as a keyword arg: x. From version 0.12, the only valid positional argument will be `data`, and passing other arguments without an explicit keyword will result in an error or misinterpretation.\n",
      "  FutureWarning\n"
     ]
    },
    {
     "data": {
      "text/plain": [
       "<AxesSubplot:xlabel='STDNT_BACKGROUND', ylabel='count'>"
      ]
     },
     "execution_count": 34,
     "metadata": {},
     "output_type": "execute_result"
    },
    {
     "data": {
      "image/png": "[encoded data removed]",
      "text/plain": [
       "<Figure size 1152x504 with 1 Axes>"
      ]
     },
     "metadata": {
      "needs_background": "light"
     },
     "output_type": "display_data"
    }
   ],
   "source": [
    "# Attrition count wrt background \n",
    "\n",
    "plt.figure(figsize=(16,7))\n",
    "sns.countplot(df['STDNT_BACKGROUND'], hue=df['Attrition'])\n",
    "\n",
    "# As per the plot more students are from BDG1 and more attrition from BDG1 "
   ]
  },
  {
   "cell_type": "code",
   "execution_count": 35,
   "metadata": {},
   "outputs": [
    {
     "data": {
      "text/html": [
       "<div>\n",
       "<style scoped>\n",
       "    .dataframe tbody tr th:only-of-type {\n",
       "        vertical-align: middle;\n",
       "    }\n",
       "\n",
       "    .dataframe tbody tr th {\n",
       "        vertical-align: top;\n",
       "    }\n",
       "\n",
       "    .dataframe thead th {\n",
       "        text-align: right;\n",
       "    }\n",
       "</style>\n",
       "<table border=\"1\" class=\"dataframe\">\n",
       "  <thead>\n",
       "    <tr style=\"text-align: right;\">\n",
       "      <th>Attrition</th>\n",
       "      <th>0</th>\n",
       "      <th>1</th>\n",
       "    </tr>\n",
       "    <tr>\n",
       "      <th>STDNT_BACKGROUND</th>\n",
       "      <th></th>\n",
       "      <th></th>\n",
       "    </tr>\n",
       "  </thead>\n",
       "  <tbody>\n",
       "    <tr>\n",
       "      <td>BGD 1</td>\n",
       "      <td>0.770893</td>\n",
       "      <td>0.229107</td>\n",
       "    </tr>\n",
       "    <tr>\n",
       "      <td>BGD 2</td>\n",
       "      <td>0.773585</td>\n",
       "      <td>0.226415</td>\n",
       "    </tr>\n",
       "    <tr>\n",
       "      <td>BGD 3</td>\n",
       "      <td>0.820486</td>\n",
       "      <td>0.179514</td>\n",
       "    </tr>\n",
       "    <tr>\n",
       "      <td>BGD 4</td>\n",
       "      <td>0.812950</td>\n",
       "      <td>0.187050</td>\n",
       "    </tr>\n",
       "    <tr>\n",
       "      <td>BGD 5</td>\n",
       "      <td>0.500000</td>\n",
       "      <td>0.500000</td>\n",
       "    </tr>\n",
       "    <tr>\n",
       "      <td>BGD 6</td>\n",
       "      <td>0.851064</td>\n",
       "      <td>0.148936</td>\n",
       "    </tr>\n",
       "    <tr>\n",
       "      <td>BGD 7</td>\n",
       "      <td>0.631579</td>\n",
       "      <td>0.368421</td>\n",
       "    </tr>\n",
       "    <tr>\n",
       "      <td>BGD 8</td>\n",
       "      <td>0.800000</td>\n",
       "      <td>0.200000</td>\n",
       "    </tr>\n",
       "  </tbody>\n",
       "</table>\n",
       "</div>"
      ],
      "text/plain": [
       "Attrition                0         1\n",
       "STDNT_BACKGROUND                    \n",
       "BGD 1             0.770893  0.229107\n",
       "BGD 2             0.773585  0.226415\n",
       "BGD 3             0.820486  0.179514\n",
       "BGD 4             0.812950  0.187050\n",
       "BGD 5             0.500000  0.500000\n",
       "BGD 6             0.851064  0.148936\n",
       "BGD 7             0.631579  0.368421\n",
       "BGD 8             0.800000  0.200000"
      ]
     },
     "execution_count": 35,
     "metadata": {},
     "output_type": "execute_result"
    }
   ],
   "source": [
    "pd.crosstab(index=df['STDNT_BACKGROUND'], columns=df['Attrition'], normalize='index')"
   ]
  },
  {
   "cell_type": "code",
   "execution_count": 36,
   "metadata": {},
   "outputs": [],
   "source": [
    "# now since the attrition varibale is on 0 & 1 so converted it to Yes & no\n",
    "df_yes = df[df['Attrition'] == 1]\n",
    "df_no = df[df['Attrition'] == 0]"
   ]
  },
  {
   "cell_type": "code",
   "execution_count": 37,
   "metadata": {},
   "outputs": [
    {
     "name": "stderr",
     "output_type": "stream",
     "text": [
      "C:\\Users\\acer\\Anaconda3\\lib\\site-packages\\seaborn\\_decorators.py:43: FutureWarning: Pass the following variable as a keyword arg: x. From version 0.12, the only valid positional argument will be `data`, and passing other arguments without an explicit keyword will result in an error or misinterpretation.\n",
      "  FutureWarning\n",
      "C:\\Users\\acer\\Anaconda3\\lib\\site-packages\\seaborn\\_decorators.py:43: FutureWarning: Pass the following variable as a keyword arg: x. From version 0.12, the only valid positional argument will be `data`, and passing other arguments without an explicit keyword will result in an error or misinterpretation.\n",
      "  FutureWarning\n"
     ]
    },
    {
     "data": {
      "image/png": "[encoded data removed]",
      "text/plain": [
       "<Figure size 1152x432 with 2 Axes>"
      ]
     },
     "metadata": {
      "needs_background": "light"
     },
     "output_type": "display_data"
    }
   ],
   "source": [
    "# Understanding the above attrition wise \n",
    "\n",
    "plt.figure(figsize=(16,6))\n",
    "#Attrition = 0\n",
    "plt.subplot(1,2,1)\n",
    "sns.countplot(df_no['STDNT_BACKGROUND'], hue=df_no['STDNT_GENDER'])\n",
    "#Attrition = 1\n",
    "plt.subplot(1,2,2)\n",
    "sns.countplot(df_yes['STDNT_BACKGROUND'], hue=df_yes['STDNT_GENDER'])\n",
    "plt.show()\n",
    "\n",
    "# the plot are segregated for students attrition and plot W R T Gender and Background. "
   ]
  },
  {
   "cell_type": "markdown",
   "metadata": {},
   "source": [
    "## GROSS_FIN_NEED"
   ]
  },
  {
   "cell_type": "code",
   "execution_count": null,
   "metadata": {},
   "outputs": [],
   "source": [
    "# checking the finacial stauts for overall students in the data "
   ]
  },
  {
   "cell_type": "code",
   "execution_count": 84,
   "metadata": {},
   "outputs": [
    {
     "data": {
      "text/plain": [
       "0          65.794118\n",
       "1418100     2.029412\n",
       "1306020     0.529412\n",
       "1146420     0.441176\n",
       "1316580     0.411765\n",
       "             ...    \n",
       "340200      0.029412\n",
       "1034820     0.029412\n",
       "1022520     0.029412\n",
       "854580      0.029412\n",
       "1177560     0.029412\n",
       "Name: GROSS_FIN_NEED, Length: 927, dtype: float64"
      ]
     },
     "execution_count": 84,
     "metadata": {},
     "output_type": "execute_result"
    }
   ],
   "source": [
    "# 65.79 dont required the financial support\n",
    "df['GROSS_FIN_NEED'].value_counts('0')*100"
   ]
  },
  {
   "cell_type": "code",
   "execution_count": 39,
   "metadata": {},
   "outputs": [
    {
     "name": "stderr",
     "output_type": "stream",
     "text": [
      "C:\\Users\\acer\\Anaconda3\\lib\\site-packages\\seaborn\\distributions.py:2619: FutureWarning: `distplot` is a deprecated function and will be removed in a future version. Please adapt your code to use either `displot` (a figure-level function with similar flexibility) or `histplot` (an axes-level function for histograms).\n",
      "  warnings.warn(msg, FutureWarning)\n"
     ]
    },
    {
     "data": {
      "text/plain": [
       "<AxesSubplot:xlabel='GROSS_FIN_NEED', ylabel='Density'>"
      ]
     },
     "execution_count": 39,
     "metadata": {},
     "output_type": "execute_result"
    },
    {
     "data": {
      "image/png": "[encoded data removed]",
      "text/plain": [
       "<Figure size 432x288 with 1 Axes>"
      ]
     },
     "metadata": {
      "needs_background": "light"
     },
     "output_type": "display_data"
    }
   ],
   "source": [
    "sns.distplot(df['GROSS_FIN_NEED'])"
   ]
  },
  {
   "cell_type": "code",
   "execution_count": 42,
   "metadata": {},
   "outputs": [
    {
     "data": {
      "text/plain": [
       "0          2237\n",
       "1418100      69\n",
       "1306020      18\n",
       "1146420      15\n",
       "1316580      14\n",
       "           ... \n",
       "340200        1\n",
       "1034820       1\n",
       "1022520       1\n",
       "854580        1\n",
       "1177560       1\n",
       "Name: GROSS_FIN_NEED, Length: 927, dtype: int64"
      ]
     },
     "execution_count": 42,
     "metadata": {},
     "output_type": "execute_result"
    }
   ],
   "source": [
    "df['GROSS_FIN_NEED'].value_counts()"
   ]
  },
  {
   "cell_type": "code",
   "execution_count": 45,
   "metadata": {},
   "outputs": [
    {
     "data": {
      "text/html": [
       "<div>\n",
       "<style scoped>\n",
       "    .dataframe tbody tr th:only-of-type {\n",
       "        vertical-align: middle;\n",
       "    }\n",
       "\n",
       "    .dataframe tbody tr th {\n",
       "        vertical-align: top;\n",
       "    }\n",
       "\n",
       "    .dataframe thead th {\n",
       "        text-align: right;\n",
       "    }\n",
       "</style>\n",
       "<table border=\"1\" class=\"dataframe\">\n",
       "  <thead>\n",
       "    <tr style=\"text-align: right;\">\n",
       "      <th>Attrition</th>\n",
       "      <th>0</th>\n",
       "      <th>1</th>\n",
       "    </tr>\n",
       "    <tr>\n",
       "      <th>GROSS_FIN_NEED</th>\n",
       "      <th></th>\n",
       "      <th></th>\n",
       "    </tr>\n",
       "  </thead>\n",
       "  <tbody>\n",
       "    <tr>\n",
       "      <td>0</td>\n",
       "      <td>0.790344</td>\n",
       "      <td>0.209656</td>\n",
       "    </tr>\n",
       "    <tr>\n",
       "      <td>2880</td>\n",
       "      <td>0.000000</td>\n",
       "      <td>1.000000</td>\n",
       "    </tr>\n",
       "    <tr>\n",
       "      <td>10020</td>\n",
       "      <td>1.000000</td>\n",
       "      <td>0.000000</td>\n",
       "    </tr>\n",
       "    <tr>\n",
       "      <td>13920</td>\n",
       "      <td>1.000000</td>\n",
       "      <td>0.000000</td>\n",
       "    </tr>\n",
       "    <tr>\n",
       "      <td>14880</td>\n",
       "      <td>1.000000</td>\n",
       "      <td>0.000000</td>\n",
       "    </tr>\n",
       "    <tr>\n",
       "      <td>...</td>\n",
       "      <td>...</td>\n",
       "      <td>...</td>\n",
       "    </tr>\n",
       "    <tr>\n",
       "      <td>1559220</td>\n",
       "      <td>0.000000</td>\n",
       "      <td>1.000000</td>\n",
       "    </tr>\n",
       "    <tr>\n",
       "      <td>1716660</td>\n",
       "      <td>0.000000</td>\n",
       "      <td>1.000000</td>\n",
       "    </tr>\n",
       "    <tr>\n",
       "      <td>1724820</td>\n",
       "      <td>1.000000</td>\n",
       "      <td>0.000000</td>\n",
       "    </tr>\n",
       "    <tr>\n",
       "      <td>1933800</td>\n",
       "      <td>1.000000</td>\n",
       "      <td>0.000000</td>\n",
       "    </tr>\n",
       "    <tr>\n",
       "      <td>2124900</td>\n",
       "      <td>0.000000</td>\n",
       "      <td>1.000000</td>\n",
       "    </tr>\n",
       "  </tbody>\n",
       "</table>\n",
       "<p>927 rows × 2 columns</p>\n",
       "</div>"
      ],
      "text/plain": [
       "Attrition              0         1\n",
       "GROSS_FIN_NEED                    \n",
       "0               0.790344  0.209656\n",
       "2880            0.000000  1.000000\n",
       "10020           1.000000  0.000000\n",
       "13920           1.000000  0.000000\n",
       "14880           1.000000  0.000000\n",
       "...                  ...       ...\n",
       "1559220         0.000000  1.000000\n",
       "1716660         0.000000  1.000000\n",
       "1724820         1.000000  0.000000\n",
       "1933800         1.000000  0.000000\n",
       "2124900         0.000000  1.000000\n",
       "\n",
       "[927 rows x 2 columns]"
      ]
     },
     "execution_count": 45,
     "metadata": {},
     "output_type": "execute_result"
    }
   ],
   "source": [
    "pd.crosstab(index=df['GROSS_FIN_NEED'], columns=df['Attrition'], normalize='index')"
   ]
  },
  {
   "cell_type": "markdown",
   "metadata": {},
   "source": [
    "### STUDENT MAJOR "
   ]
  },
  {
   "cell_type": "code",
   "execution_count": 85,
   "metadata": {},
   "outputs": [
    {
     "data": {
      "text/plain": [
       "0"
      ]
     },
     "execution_count": 85,
     "metadata": {},
     "output_type": "execute_result"
    }
   ],
   "source": [
    "df['STDNT_MAJOR'].isnull().sum()"
   ]
  },
  {
   "cell_type": "code",
   "execution_count": 86,
   "metadata": {},
   "outputs": [
    {
     "data": {
      "text/plain": [
       "Undeclared                        460\n",
       "Biology                           362\n",
       "Early Childhood Education         190\n",
       "Pre-Nursing                       177\n",
       "Nursing                           164\n",
       "Psychology                        155\n",
       "Pre-Business                      133\n",
       "Theatre Arts                      131\n",
       "Music Performance                  99\n",
       "Criminal Justice                   98\n",
       "Music Education                    96\n",
       "General Business                   85\n",
       "Exercise Science                   81\n",
       "Art                                75\n",
       "Management                         72\n",
       "Communication                      70\n",
       "Political Science                  64\n",
       "Chemistry                          64\n",
       "English Language/Literature        60\n",
       "Engineering Studies                60\n",
       "Marketing                          59\n",
       "Computer Science - Systems         58\n",
       "Accounting                         54\n",
       "Health Science                     48\n",
       "Computer Science - Games           40\n",
       "Joint Enrollment - Accel           35\n",
       "History                            33\n",
       "Applied Computer Science           32\n",
       "Theatre Education                  29\n",
       "English and Secondary Ed           28\n",
       "History and Secondary Ed           27\n",
       "Pre-Engineering/RETP               27\n",
       "Mathematics                        26\n",
       "Finance                            24\n",
       "Management Information Systems     21\n",
       "Health and Physical Education      20\n",
       "Sociology                          20\n",
       "Music                              17\n",
       "Middle Grades Education            17\n",
       "Spec Ed: Gen. Curr. - Reading      13\n",
       "General Studies/AS                 12\n",
       "Mathematics and Secondary Ed       11\n",
       "Information Technology             10\n",
       "Art Education                       9\n",
       "Biology and Secondary Ed            5\n",
       "Spanish                             5\n",
       "French                              4\n",
       "French with Teacher Cert            4\n",
       "Spanish with Teacher Cert           4\n",
       "Geology                             4\n",
       "Early Admission - Accel             3\n",
       "Chemistry and Secondary Ed          2\n",
       "Earth and Space Science             2\n",
       "Liberal Arts                        1\n",
       "Name: STDNT_MAJOR, dtype: int64"
      ]
     },
     "execution_count": 86,
     "metadata": {},
     "output_type": "execute_result"
    }
   ],
   "source": [
    "df['STDNT_MAJOR'].value_counts()"
   ]
  },
  {
   "cell_type": "code",
   "execution_count": 87,
   "metadata": {},
   "outputs": [
    {
     "data": {
      "text/html": [
       "<div>\n",
       "<style scoped>\n",
       "    .dataframe tbody tr th:only-of-type {\n",
       "        vertical-align: middle;\n",
       "    }\n",
       "\n",
       "    .dataframe tbody tr th {\n",
       "        vertical-align: top;\n",
       "    }\n",
       "\n",
       "    .dataframe thead th {\n",
       "        text-align: right;\n",
       "    }\n",
       "</style>\n",
       "<table border=\"1\" class=\"dataframe\">\n",
       "  <thead>\n",
       "    <tr style=\"text-align: right;\">\n",
       "      <th>Attrition</th>\n",
       "      <th>0</th>\n",
       "      <th>1</th>\n",
       "    </tr>\n",
       "    <tr>\n",
       "      <th>STDNT_MAJOR</th>\n",
       "      <th></th>\n",
       "      <th></th>\n",
       "    </tr>\n",
       "  </thead>\n",
       "  <tbody>\n",
       "    <tr>\n",
       "      <td>Accounting</td>\n",
       "      <td>42</td>\n",
       "      <td>12</td>\n",
       "    </tr>\n",
       "    <tr>\n",
       "      <td>Applied Computer Science</td>\n",
       "      <td>27</td>\n",
       "      <td>5</td>\n",
       "    </tr>\n",
       "    <tr>\n",
       "      <td>Art</td>\n",
       "      <td>57</td>\n",
       "      <td>18</td>\n",
       "    </tr>\n",
       "    <tr>\n",
       "      <td>Art Education</td>\n",
       "      <td>7</td>\n",
       "      <td>2</td>\n",
       "    </tr>\n",
       "    <tr>\n",
       "      <td>Biology</td>\n",
       "      <td>280</td>\n",
       "      <td>82</td>\n",
       "    </tr>\n",
       "    <tr>\n",
       "      <td>Biology and Secondary Ed</td>\n",
       "      <td>2</td>\n",
       "      <td>3</td>\n",
       "    </tr>\n",
       "    <tr>\n",
       "      <td>Chemistry</td>\n",
       "      <td>54</td>\n",
       "      <td>10</td>\n",
       "    </tr>\n",
       "    <tr>\n",
       "      <td>Chemistry and Secondary Ed</td>\n",
       "      <td>2</td>\n",
       "      <td>0</td>\n",
       "    </tr>\n",
       "    <tr>\n",
       "      <td>Communication</td>\n",
       "      <td>56</td>\n",
       "      <td>14</td>\n",
       "    </tr>\n",
       "    <tr>\n",
       "      <td>Computer Science - Games</td>\n",
       "      <td>26</td>\n",
       "      <td>14</td>\n",
       "    </tr>\n",
       "    <tr>\n",
       "      <td>Computer Science - Systems</td>\n",
       "      <td>49</td>\n",
       "      <td>9</td>\n",
       "    </tr>\n",
       "    <tr>\n",
       "      <td>Criminal Justice</td>\n",
       "      <td>69</td>\n",
       "      <td>29</td>\n",
       "    </tr>\n",
       "    <tr>\n",
       "      <td>Early Admission - Accel</td>\n",
       "      <td>3</td>\n",
       "      <td>0</td>\n",
       "    </tr>\n",
       "    <tr>\n",
       "      <td>Early Childhood Education</td>\n",
       "      <td>153</td>\n",
       "      <td>37</td>\n",
       "    </tr>\n",
       "    <tr>\n",
       "      <td>Earth and Space Science</td>\n",
       "      <td>1</td>\n",
       "      <td>1</td>\n",
       "    </tr>\n",
       "    <tr>\n",
       "      <td>Engineering Studies</td>\n",
       "      <td>45</td>\n",
       "      <td>15</td>\n",
       "    </tr>\n",
       "    <tr>\n",
       "      <td>English Language/Literature</td>\n",
       "      <td>51</td>\n",
       "      <td>9</td>\n",
       "    </tr>\n",
       "    <tr>\n",
       "      <td>English and Secondary Ed</td>\n",
       "      <td>24</td>\n",
       "      <td>4</td>\n",
       "    </tr>\n",
       "    <tr>\n",
       "      <td>Exercise Science</td>\n",
       "      <td>62</td>\n",
       "      <td>19</td>\n",
       "    </tr>\n",
       "    <tr>\n",
       "      <td>Finance</td>\n",
       "      <td>16</td>\n",
       "      <td>8</td>\n",
       "    </tr>\n",
       "    <tr>\n",
       "      <td>French</td>\n",
       "      <td>3</td>\n",
       "      <td>1</td>\n",
       "    </tr>\n",
       "    <tr>\n",
       "      <td>French with Teacher Cert</td>\n",
       "      <td>3</td>\n",
       "      <td>1</td>\n",
       "    </tr>\n",
       "    <tr>\n",
       "      <td>General Business</td>\n",
       "      <td>73</td>\n",
       "      <td>12</td>\n",
       "    </tr>\n",
       "    <tr>\n",
       "      <td>General Studies/AS</td>\n",
       "      <td>10</td>\n",
       "      <td>2</td>\n",
       "    </tr>\n",
       "    <tr>\n",
       "      <td>Geology</td>\n",
       "      <td>4</td>\n",
       "      <td>0</td>\n",
       "    </tr>\n",
       "    <tr>\n",
       "      <td>Health Science</td>\n",
       "      <td>42</td>\n",
       "      <td>6</td>\n",
       "    </tr>\n",
       "    <tr>\n",
       "      <td>Health and Physical Education</td>\n",
       "      <td>15</td>\n",
       "      <td>5</td>\n",
       "    </tr>\n",
       "    <tr>\n",
       "      <td>History</td>\n",
       "      <td>25</td>\n",
       "      <td>8</td>\n",
       "    </tr>\n",
       "    <tr>\n",
       "      <td>History and Secondary Ed</td>\n",
       "      <td>20</td>\n",
       "      <td>7</td>\n",
       "    </tr>\n",
       "    <tr>\n",
       "      <td>Information Technology</td>\n",
       "      <td>7</td>\n",
       "      <td>3</td>\n",
       "    </tr>\n",
       "    <tr>\n",
       "      <td>Joint Enrollment - Accel</td>\n",
       "      <td>35</td>\n",
       "      <td>0</td>\n",
       "    </tr>\n",
       "    <tr>\n",
       "      <td>Liberal Arts</td>\n",
       "      <td>1</td>\n",
       "      <td>0</td>\n",
       "    </tr>\n",
       "    <tr>\n",
       "      <td>Management</td>\n",
       "      <td>57</td>\n",
       "      <td>15</td>\n",
       "    </tr>\n",
       "    <tr>\n",
       "      <td>Management Information Systems</td>\n",
       "      <td>14</td>\n",
       "      <td>7</td>\n",
       "    </tr>\n",
       "    <tr>\n",
       "      <td>Marketing</td>\n",
       "      <td>44</td>\n",
       "      <td>15</td>\n",
       "    </tr>\n",
       "    <tr>\n",
       "      <td>Mathematics</td>\n",
       "      <td>20</td>\n",
       "      <td>6</td>\n",
       "    </tr>\n",
       "    <tr>\n",
       "      <td>Mathematics and Secondary Ed</td>\n",
       "      <td>10</td>\n",
       "      <td>1</td>\n",
       "    </tr>\n",
       "    <tr>\n",
       "      <td>Middle Grades Education</td>\n",
       "      <td>14</td>\n",
       "      <td>3</td>\n",
       "    </tr>\n",
       "    <tr>\n",
       "      <td>Music</td>\n",
       "      <td>11</td>\n",
       "      <td>6</td>\n",
       "    </tr>\n",
       "    <tr>\n",
       "      <td>Music Education</td>\n",
       "      <td>88</td>\n",
       "      <td>8</td>\n",
       "    </tr>\n",
       "    <tr>\n",
       "      <td>Music Performance</td>\n",
       "      <td>87</td>\n",
       "      <td>12</td>\n",
       "    </tr>\n",
       "    <tr>\n",
       "      <td>Nursing</td>\n",
       "      <td>127</td>\n",
       "      <td>37</td>\n",
       "    </tr>\n",
       "    <tr>\n",
       "      <td>Political Science</td>\n",
       "      <td>50</td>\n",
       "      <td>14</td>\n",
       "    </tr>\n",
       "    <tr>\n",
       "      <td>Pre-Business</td>\n",
       "      <td>101</td>\n",
       "      <td>32</td>\n",
       "    </tr>\n",
       "    <tr>\n",
       "      <td>Pre-Engineering/RETP</td>\n",
       "      <td>20</td>\n",
       "      <td>7</td>\n",
       "    </tr>\n",
       "    <tr>\n",
       "      <td>Pre-Nursing</td>\n",
       "      <td>130</td>\n",
       "      <td>47</td>\n",
       "    </tr>\n",
       "    <tr>\n",
       "      <td>Psychology</td>\n",
       "      <td>112</td>\n",
       "      <td>43</td>\n",
       "    </tr>\n",
       "    <tr>\n",
       "      <td>Sociology</td>\n",
       "      <td>16</td>\n",
       "      <td>4</td>\n",
       "    </tr>\n",
       "    <tr>\n",
       "      <td>Spanish</td>\n",
       "      <td>5</td>\n",
       "      <td>0</td>\n",
       "    </tr>\n",
       "    <tr>\n",
       "      <td>Spanish with Teacher Cert</td>\n",
       "      <td>3</td>\n",
       "      <td>1</td>\n",
       "    </tr>\n",
       "    <tr>\n",
       "      <td>Spec Ed: Gen. Curr. - Reading</td>\n",
       "      <td>10</td>\n",
       "      <td>3</td>\n",
       "    </tr>\n",
       "    <tr>\n",
       "      <td>Theatre Arts</td>\n",
       "      <td>119</td>\n",
       "      <td>12</td>\n",
       "    </tr>\n",
       "    <tr>\n",
       "      <td>Theatre Education</td>\n",
       "      <td>26</td>\n",
       "      <td>3</td>\n",
       "    </tr>\n",
       "    <tr>\n",
       "      <td>Undeclared</td>\n",
       "      <td>349</td>\n",
       "      <td>111</td>\n",
       "    </tr>\n",
       "  </tbody>\n",
       "</table>\n",
       "</div>"
      ],
      "text/plain": [
       "Attrition                         0    1\n",
       "STDNT_MAJOR                             \n",
       "Accounting                       42   12\n",
       "Applied Computer Science         27    5\n",
       "Art                              57   18\n",
       "Art Education                     7    2\n",
       "Biology                         280   82\n",
       "Biology and Secondary Ed          2    3\n",
       "Chemistry                        54   10\n",
       "Chemistry and Secondary Ed        2    0\n",
       "Communication                    56   14\n",
       "Computer Science - Games         26   14\n",
       "Computer Science - Systems       49    9\n",
       "Criminal Justice                 69   29\n",
       "Early Admission - Accel           3    0\n",
       "Early Childhood Education       153   37\n",
       "Earth and Space Science           1    1\n",
       "Engineering Studies              45   15\n",
       "English Language/Literature      51    9\n",
       "English and Secondary Ed         24    4\n",
       "Exercise Science                 62   19\n",
       "Finance                          16    8\n",
       "French                            3    1\n",
       "French with Teacher Cert          3    1\n",
       "General Business                 73   12\n",
       "General Studies/AS               10    2\n",
       "Geology                           4    0\n",
       "Health Science                   42    6\n",
       "Health and Physical Education    15    5\n",
       "History                          25    8\n",
       "History and Secondary Ed         20    7\n",
       "Information Technology            7    3\n",
       "Joint Enrollment - Accel         35    0\n",
       "Liberal Arts                      1    0\n",
       "Management                       57   15\n",
       "Management Information Systems   14    7\n",
       "Marketing                        44   15\n",
       "Mathematics                      20    6\n",
       "Mathematics and Secondary Ed     10    1\n",
       "Middle Grades Education          14    3\n",
       "Music                            11    6\n",
       "Music Education                  88    8\n",
       "Music Performance                87   12\n",
       "Nursing                         127   37\n",
       "Political Science                50   14\n",
       "Pre-Business                    101   32\n",
       "Pre-Engineering/RETP             20    7\n",
       "Pre-Nursing                     130   47\n",
       "Psychology                      112   43\n",
       "Sociology                        16    4\n",
       "Spanish                           5    0\n",
       "Spanish with Teacher Cert         3    1\n",
       "Spec Ed: Gen. Curr. - Reading    10    3\n",
       "Theatre Arts                    119   12\n",
       "Theatre Education                26    3\n",
       "Undeclared                      349  111"
      ]
     },
     "execution_count": 87,
     "metadata": {},
     "output_type": "execute_result"
    }
   ],
   "source": [
    "pd.crosstab(df['STDNT_MAJOR'], df['Attrition'])"
   ]
  },
  {
   "cell_type": "markdown",
   "metadata": {},
   "source": [
    "### STUDENT MINOR"
   ]
  },
  {
   "cell_type": "code",
   "execution_count": 88,
   "metadata": {},
   "outputs": [
    {
     "data": {
      "text/plain": [
       "N                                3160\n",
       "Spanish                            26\n",
       "Psychology                         19\n",
       "Music                              19\n",
       "Foundations of Business            15\n",
       "Communication                      14\n",
       "History                            13\n",
       "Theatre Arts                       12\n",
       "Criminal Justice                   12\n",
       "Computer Science - Systems         10\n",
       "Early Childhood Education           9\n",
       "Mathematics                         7\n",
       "Marketing                           6\n",
       "Art History                         6\n",
       "Professional Writing                6\n",
       "Sociology                           5\n",
       "Art                                 5\n",
       "English Language/Literature         5\n",
       "Chemistry                           4\n",
       "Accounting                          4\n",
       "Political Science                   4\n",
       "Biology                             4\n",
       "French                              4\n",
       "Health Science                      3\n",
       "Economics                           3\n",
       "Exercise Science                    3\n",
       "Computer Info. Management           3\n",
       "International Business              3\n",
       "African Studies                     2\n",
       "Management                          2\n",
       "Anthropology                        2\n",
       "Philosophy                          2\n",
       "Asian Studies                       2\n",
       "Military Sci & Adv Leadership       2\n",
       "Creative Writing                    2\n",
       "Women's Studies                     1\n",
       "Finance                             1\n",
       "Name: STDNT_MINOR, dtype: int64"
      ]
     },
     "execution_count": 88,
     "metadata": {},
     "output_type": "execute_result"
    }
   ],
   "source": [
    "df['STDNT_MINOR'].value_counts()\n",
    "\n",
    "#many students have not delcared the minor."
   ]
  },
  {
   "cell_type": "code",
   "execution_count": 89,
   "metadata": {},
   "outputs": [
    {
     "data": {
      "text/plain": [
       "N                                92.941176\n",
       "Spanish                           0.764706\n",
       "Psychology                        0.558824\n",
       "Music                             0.558824\n",
       "Foundations of Business           0.441176\n",
       "Communication                     0.411765\n",
       "History                           0.382353\n",
       "Theatre Arts                      0.352941\n",
       "Criminal Justice                  0.352941\n",
       "Computer Science - Systems        0.294118\n",
       "Early Childhood Education         0.264706\n",
       "Mathematics                       0.205882\n",
       "Marketing                         0.176471\n",
       "Art History                       0.176471\n",
       "Professional Writing              0.176471\n",
       "Sociology                         0.147059\n",
       "Art                               0.147059\n",
       "English Language/Literature       0.147059\n",
       "Chemistry                         0.117647\n",
       "Accounting                        0.117647\n",
       "Political Science                 0.117647\n",
       "Biology                           0.117647\n",
       "French                            0.117647\n",
       "Health Science                    0.088235\n",
       "Economics                         0.088235\n",
       "Exercise Science                  0.088235\n",
       "Computer Info. Management         0.088235\n",
       "International Business            0.088235\n",
       "African Studies                   0.058824\n",
       "Management                        0.058824\n",
       "Anthropology                      0.058824\n",
       "Philosophy                        0.058824\n",
       "Asian Studies                     0.058824\n",
       "Military Sci & Adv Leadership     0.058824\n",
       "Creative Writing                  0.058824\n",
       "Women's Studies                   0.029412\n",
       "Finance                           0.029412\n",
       "Name: STDNT_MINOR, dtype: float64"
      ]
     },
     "execution_count": 89,
     "metadata": {},
     "output_type": "execute_result"
    }
   ],
   "source": [
    "df['STDNT_MINOR'].value_counts(normalize=True) * 100"
   ]
  },
  {
   "cell_type": "code",
   "execution_count": 90,
   "metadata": {},
   "outputs": [
    {
     "data": {
      "text/html": [
       "<div>\n",
       "<style scoped>\n",
       "    .dataframe tbody tr th:only-of-type {\n",
       "        vertical-align: middle;\n",
       "    }\n",
       "\n",
       "    .dataframe tbody tr th {\n",
       "        vertical-align: top;\n",
       "    }\n",
       "\n",
       "    .dataframe thead th {\n",
       "        text-align: right;\n",
       "    }\n",
       "</style>\n",
       "<table border=\"1\" class=\"dataframe\">\n",
       "  <thead>\n",
       "    <tr style=\"text-align: right;\">\n",
       "      <th>Attrition</th>\n",
       "      <th>0</th>\n",
       "      <th>1</th>\n",
       "    </tr>\n",
       "    <tr>\n",
       "      <th>STDNT_MINOR</th>\n",
       "      <th></th>\n",
       "      <th></th>\n",
       "    </tr>\n",
       "  </thead>\n",
       "  <tbody>\n",
       "    <tr>\n",
       "      <td>Accounting</td>\n",
       "      <td>3</td>\n",
       "      <td>1</td>\n",
       "    </tr>\n",
       "    <tr>\n",
       "      <td>African Studies</td>\n",
       "      <td>2</td>\n",
       "      <td>0</td>\n",
       "    </tr>\n",
       "    <tr>\n",
       "      <td>Anthropology</td>\n",
       "      <td>2</td>\n",
       "      <td>0</td>\n",
       "    </tr>\n",
       "    <tr>\n",
       "      <td>Art</td>\n",
       "      <td>3</td>\n",
       "      <td>2</td>\n",
       "    </tr>\n",
       "    <tr>\n",
       "      <td>Art History</td>\n",
       "      <td>4</td>\n",
       "      <td>2</td>\n",
       "    </tr>\n",
       "    <tr>\n",
       "      <td>Asian Studies</td>\n",
       "      <td>2</td>\n",
       "      <td>0</td>\n",
       "    </tr>\n",
       "    <tr>\n",
       "      <td>Biology</td>\n",
       "      <td>3</td>\n",
       "      <td>1</td>\n",
       "    </tr>\n",
       "    <tr>\n",
       "      <td>Chemistry</td>\n",
       "      <td>4</td>\n",
       "      <td>0</td>\n",
       "    </tr>\n",
       "    <tr>\n",
       "      <td>Communication</td>\n",
       "      <td>13</td>\n",
       "      <td>1</td>\n",
       "    </tr>\n",
       "    <tr>\n",
       "      <td>Computer Info. Management</td>\n",
       "      <td>3</td>\n",
       "      <td>0</td>\n",
       "    </tr>\n",
       "    <tr>\n",
       "      <td>Computer Science - Systems</td>\n",
       "      <td>8</td>\n",
       "      <td>2</td>\n",
       "    </tr>\n",
       "    <tr>\n",
       "      <td>Creative Writing</td>\n",
       "      <td>1</td>\n",
       "      <td>1</td>\n",
       "    </tr>\n",
       "    <tr>\n",
       "      <td>Criminal Justice</td>\n",
       "      <td>8</td>\n",
       "      <td>4</td>\n",
       "    </tr>\n",
       "    <tr>\n",
       "      <td>Early Childhood Education</td>\n",
       "      <td>7</td>\n",
       "      <td>2</td>\n",
       "    </tr>\n",
       "    <tr>\n",
       "      <td>Economics</td>\n",
       "      <td>2</td>\n",
       "      <td>1</td>\n",
       "    </tr>\n",
       "    <tr>\n",
       "      <td>English Language/Literature</td>\n",
       "      <td>1</td>\n",
       "      <td>4</td>\n",
       "    </tr>\n",
       "    <tr>\n",
       "      <td>Exercise Science</td>\n",
       "      <td>2</td>\n",
       "      <td>1</td>\n",
       "    </tr>\n",
       "    <tr>\n",
       "      <td>Finance</td>\n",
       "      <td>1</td>\n",
       "      <td>0</td>\n",
       "    </tr>\n",
       "    <tr>\n",
       "      <td>Foundations of Business</td>\n",
       "      <td>13</td>\n",
       "      <td>2</td>\n",
       "    </tr>\n",
       "    <tr>\n",
       "      <td>French</td>\n",
       "      <td>3</td>\n",
       "      <td>1</td>\n",
       "    </tr>\n",
       "    <tr>\n",
       "      <td>Health Science</td>\n",
       "      <td>3</td>\n",
       "      <td>0</td>\n",
       "    </tr>\n",
       "    <tr>\n",
       "      <td>History</td>\n",
       "      <td>11</td>\n",
       "      <td>2</td>\n",
       "    </tr>\n",
       "    <tr>\n",
       "      <td>International Business</td>\n",
       "      <td>3</td>\n",
       "      <td>0</td>\n",
       "    </tr>\n",
       "    <tr>\n",
       "      <td>Management</td>\n",
       "      <td>2</td>\n",
       "      <td>0</td>\n",
       "    </tr>\n",
       "    <tr>\n",
       "      <td>Marketing</td>\n",
       "      <td>5</td>\n",
       "      <td>1</td>\n",
       "    </tr>\n",
       "    <tr>\n",
       "      <td>Mathematics</td>\n",
       "      <td>7</td>\n",
       "      <td>0</td>\n",
       "    </tr>\n",
       "    <tr>\n",
       "      <td>Military Sci &amp; Adv Leadership</td>\n",
       "      <td>1</td>\n",
       "      <td>1</td>\n",
       "    </tr>\n",
       "    <tr>\n",
       "      <td>Music</td>\n",
       "      <td>16</td>\n",
       "      <td>3</td>\n",
       "    </tr>\n",
       "    <tr>\n",
       "      <td>N</td>\n",
       "      <td>2485</td>\n",
       "      <td>675</td>\n",
       "    </tr>\n",
       "    <tr>\n",
       "      <td>Philosophy</td>\n",
       "      <td>2</td>\n",
       "      <td>0</td>\n",
       "    </tr>\n",
       "    <tr>\n",
       "      <td>Political Science</td>\n",
       "      <td>3</td>\n",
       "      <td>1</td>\n",
       "    </tr>\n",
       "    <tr>\n",
       "      <td>Professional Writing</td>\n",
       "      <td>6</td>\n",
       "      <td>0</td>\n",
       "    </tr>\n",
       "    <tr>\n",
       "      <td>Psychology</td>\n",
       "      <td>14</td>\n",
       "      <td>5</td>\n",
       "    </tr>\n",
       "    <tr>\n",
       "      <td>Sociology</td>\n",
       "      <td>3</td>\n",
       "      <td>2</td>\n",
       "    </tr>\n",
       "    <tr>\n",
       "      <td>Spanish</td>\n",
       "      <td>22</td>\n",
       "      <td>4</td>\n",
       "    </tr>\n",
       "    <tr>\n",
       "      <td>Theatre Arts</td>\n",
       "      <td>9</td>\n",
       "      <td>3</td>\n",
       "    </tr>\n",
       "    <tr>\n",
       "      <td>Women's Studies</td>\n",
       "      <td>0</td>\n",
       "      <td>1</td>\n",
       "    </tr>\n",
       "  </tbody>\n",
       "</table>\n",
       "</div>"
      ],
      "text/plain": [
       "Attrition                         0    1\n",
       "STDNT_MINOR                             \n",
       "Accounting                        3    1\n",
       "African Studies                   2    0\n",
       "Anthropology                      2    0\n",
       "Art                               3    2\n",
       "Art History                       4    2\n",
       "Asian Studies                     2    0\n",
       "Biology                           3    1\n",
       "Chemistry                         4    0\n",
       "Communication                    13    1\n",
       "Computer Info. Management         3    0\n",
       "Computer Science - Systems        8    2\n",
       "Creative Writing                  1    1\n",
       "Criminal Justice                  8    4\n",
       "Early Childhood Education         7    2\n",
       "Economics                         2    1\n",
       "English Language/Literature       1    4\n",
       "Exercise Science                  2    1\n",
       "Finance                           1    0\n",
       "Foundations of Business          13    2\n",
       "French                            3    1\n",
       "Health Science                    3    0\n",
       "History                          11    2\n",
       "International Business            3    0\n",
       "Management                        2    0\n",
       "Marketing                         5    1\n",
       "Mathematics                       7    0\n",
       "Military Sci & Adv Leadership     1    1\n",
       "Music                            16    3\n",
       "N                              2485  675\n",
       "Philosophy                        2    0\n",
       "Political Science                 3    1\n",
       "Professional Writing              6    0\n",
       "Psychology                       14    5\n",
       "Sociology                         3    2\n",
       "Spanish                          22    4\n",
       "Theatre Arts                      9    3\n",
       "Women's Studies                   0    1"
      ]
     },
     "execution_count": 90,
     "metadata": {},
     "output_type": "execute_result"
    }
   ],
   "source": [
    "pd.crosstab(df['STDNT_MINOR'], df['Attrition'])"
   ]
  },
  {
   "cell_type": "markdown",
   "metadata": {},
   "source": [
    "## HOUSING STATUS "
   ]
  },
  {
   "cell_type": "code",
   "execution_count": 92,
   "metadata": {},
   "outputs": [
    {
     "data": {
      "text/plain": [
       "Off Campus    1981\n",
       "On Campus     1419\n",
       "Name: HOUSING_STS, dtype: int64"
      ]
     },
     "execution_count": 92,
     "metadata": {},
     "output_type": "execute_result"
    }
   ],
   "source": [
    "df['HOUSING_STS'].value_counts()"
   ]
  },
  {
   "cell_type": "code",
   "execution_count": 94,
   "metadata": {},
   "outputs": [
    {
     "name": "stderr",
     "output_type": "stream",
     "text": [
      "C:\\Users\\acer\\Anaconda3\\lib\\site-packages\\seaborn\\_decorators.py:43: FutureWarning: Pass the following variable as a keyword arg: x. From version 0.12, the only valid positional argument will be `data`, and passing other arguments without an explicit keyword will result in an error or misinterpretation.\n",
      "  FutureWarning\n"
     ]
    },
    {
     "data": {
      "image/png": "[encoded data removed]",
      "text/plain": [
       "<Figure size 1152x504 with 2 Axes>"
      ]
     },
     "metadata": {
      "needs_background": "light"
     },
     "output_type": "display_data"
    }
   ],
   "source": [
    "plt.figure(figsize=(16,7))\n",
    "\n",
    "plt.subplot(1,3,2)\n",
    "plt.pie(df['HOUSING_STS'].value_counts(),explode=[0.05,0], colors=[ 'lightskyblue', 'orange'], labels=['OFF_camp', 'On_camp'], autopct='%.2f%%')\n",
    "plt.title(' Housing Pie chart')\n",
    "\n",
    "# W R T attrition plot \n",
    "plt.subplot(1,3,3)\n",
    "sns.countplot(df['HOUSING_STS'], hue=df['Attrition'])\n",
    "\n",
    "plt.show()"
   ]
  },
  {
   "cell_type": "markdown",
   "metadata": {},
   "source": [
    "## ENTRANCE TEST "
   ]
  },
  {
   "cell_type": "code",
   "execution_count": 95,
   "metadata": {},
   "outputs": [
    {
     "data": {
      "text/plain": [
       "STDNT_TEST_ENTRANCE1        2294\n",
       "STDNT_TEST_ENTRANCE2         908\n",
       "STDNT_TEST_ENTRANCE_COMB     518\n",
       "dtype: int64"
      ]
     },
     "execution_count": 95,
     "metadata": {},
     "output_type": "execute_result"
    }
   ],
   "source": [
    "# This will tell us that how many students tookthe entrance test.\n",
    "\n",
    "df[['STDNT_TEST_ENTRANCE1', 'STDNT_TEST_ENTRANCE2','STDNT_TEST_ENTRANCE_COMB']].isnull().sum()\n",
    "\n",
    "# so as per the result 2294 students did not took the test and 908 did not took the second entrance test and 518 studnets didnt took the both the tests. "
   ]
  },
  {
   "cell_type": "code",
   "execution_count": 96,
   "metadata": {},
   "outputs": [
    {
     "name": "stderr",
     "output_type": "stream",
     "text": [
      "C:\\Users\\acer\\Anaconda3\\lib\\site-packages\\seaborn\\distributions.py:2619: FutureWarning: `distplot` is a deprecated function and will be removed in a future version. Please adapt your code to use either `displot` (a figure-level function with similar flexibility) or `histplot` (an axes-level function for histograms).\n",
      "  warnings.warn(msg, FutureWarning)\n"
     ]
    },
    {
     "data": {
      "text/plain": [
       "<AxesSubplot:xlabel='STDNT_TEST_ENTRANCE_COMB', ylabel='Density'>"
      ]
     },
     "execution_count": 96,
     "metadata": {},
     "output_type": "execute_result"
    },
    {
     "data": {
      "image/png": "[encoded data removed]",
      "text/plain": [
       "<Figure size 432x288 with 1 Axes>"
      ]
     },
     "metadata": {
      "needs_background": "light"
     },
     "output_type": "display_data"
    }
   ],
   "source": [
    "sns.distplot(df['STDNT_TEST_ENTRANCE_COMB'])"
   ]
  },
  {
   "cell_type": "code",
   "execution_count": 104,
   "metadata": {},
   "outputs": [
    {
     "data": {
      "image/png": "[encoded data removed]",
      "text/plain": [
       "<Figure size 1080x360 with 1 Axes>"
      ]
     },
     "metadata": {
      "needs_background": "light"
     },
     "output_type": "display_data"
    }
   ],
   "source": [
    "# count of combined entrance test score \n",
    "\n",
    "plt.figure(figsize=(15,5))\n",
    "sns.histplot(df['STDNT_TEST_ENTRANCE_COMB'])\n",
    "plt.title('Count of STDNT_TEST_ENTRANCE_COMB group')\n",
    "plt.show()"
   ]
  },
  {
   "cell_type": "code",
   "execution_count": 105,
   "metadata": {},
   "outputs": [
    {
     "data": {
      "image/png": "[encoded data removed]",
      "text/plain": [
       "<Figure size 1080x360 with 1 Axes>"
      ]
     },
     "metadata": {
      "needs_background": "light"
     },
     "output_type": "display_data"
    }
   ],
   "source": [
    "# plot w r t student attrition on combined entrance test data \n",
    "\n",
    "plt.figure(figsize=(15,5))\n",
    "sns.histplot(data=df, x='STDNT_TEST_ENTRANCE_COMB', hue='Attrition')\n",
    "plt.title('Count of STDNT_TEST_ENTRANCE_COMB group w.r.t Attrition')\n",
    "\n",
    "plt.show()"
   ]
  },
  {
   "cell_type": "markdown",
   "metadata": {},
   "source": [
    "## STATE FLAG"
   ]
  },
  {
   "cell_type": "code",
   "execution_count": 107,
   "metadata": {},
   "outputs": [
    {
     "data": {
      "text/plain": [
       "Y    3063\n",
       "N     337\n",
       "Name: IN_STATE_FLAG, dtype: int64"
      ]
     },
     "execution_count": 107,
     "metadata": {},
     "output_type": "execute_result"
    }
   ],
   "source": [
    "# Same state count \n",
    "\n",
    "df['IN_STATE_FLAG'].value_counts()\n",
    "\n",
    "#so as per the result 3063 students belog to same state as university "
   ]
  },
  {
   "cell_type": "code",
   "execution_count": 113,
   "metadata": {},
   "outputs": [
    {
     "name": "stderr",
     "output_type": "stream",
     "text": [
      "C:\\Users\\acer\\Anaconda3\\lib\\site-packages\\seaborn\\_decorators.py:43: FutureWarning: Pass the following variable as a keyword arg: x. From version 0.12, the only valid positional argument will be `data`, and passing other arguments without an explicit keyword will result in an error or misinterpretation.\n",
      "  FutureWarning\n"
     ]
    },
    {
     "data": {
      "text/plain": [
       "<AxesSubplot:xlabel='IN_STATE_FLAG', ylabel='count'>"
      ]
     },
     "execution_count": 113,
     "metadata": {},
     "output_type": "execute_result"
    },
    {
     "data": {
      "image/png": "[encoded data removed]",
      "text/plain": [
       "<Figure size 360x504 with 1 Axes>"
      ]
     },
     "metadata": {
      "needs_background": "light"
     },
     "output_type": "display_data"
    }
   ],
   "source": [
    "plt.figure(figsize=(5,7))\n",
    "sns.countplot(df['IN_STATE_FLAG'])"
   ]
  },
  {
   "cell_type": "markdown",
   "metadata": {},
   "source": [
    "## INTERNATIONAL STATUS "
   ]
  },
  {
   "cell_type": "code",
   "execution_count": 116,
   "metadata": {},
   "outputs": [
    {
     "data": {
      "text/plain": [
       "N    3373\n",
       "Y      27\n",
       "Name: INTERNATIONAL_STS, dtype: int64"
      ]
     },
     "execution_count": 116,
     "metadata": {},
     "output_type": "execute_result"
    }
   ],
   "source": [
    "# checking the students count who are from from outside \n",
    "\n",
    "df['INTERNATIONAL_STS'].value_counts()\n",
    "\n",
    "# only 27 students are from other contry "
   ]
  },
  {
   "cell_type": "code",
   "execution_count": 117,
   "metadata": {},
   "outputs": [
    {
     "name": "stderr",
     "output_type": "stream",
     "text": [
      "C:\\Users\\acer\\Anaconda3\\lib\\site-packages\\seaborn\\_decorators.py:43: FutureWarning: Pass the following variable as a keyword arg: x. From version 0.12, the only valid positional argument will be `data`, and passing other arguments without an explicit keyword will result in an error or misinterpretation.\n",
      "  FutureWarning\n"
     ]
    },
    {
     "data": {
      "text/plain": [
       "<AxesSubplot:xlabel='INTERNATIONAL_STS', ylabel='count'>"
      ]
     },
     "execution_count": 117,
     "metadata": {},
     "output_type": "execute_result"
    },
    {
     "data": {
      "image/png": "[encoded data removed]",
      "text/plain": [
       "<Figure size 360x504 with 1 Axes>"
      ]
     },
     "metadata": {
      "needs_background": "light"
     },
     "output_type": "display_data"
    }
   ],
   "source": [
    "plt.figure(figsize=(5,7))\n",
    "sns.countplot(df['INTERNATIONAL_STS'])"
   ]
  },
  {
   "cell_type": "code",
   "execution_count": 126,
   "metadata": {},
   "outputs": [
    {
     "name": "stderr",
     "output_type": "stream",
     "text": [
      "C:\\Users\\acer\\Anaconda3\\lib\\site-packages\\seaborn\\_decorators.py:43: FutureWarning: Pass the following variable as a keyword arg: x. From version 0.12, the only valid positional argument will be `data`, and passing other arguments without an explicit keyword will result in an error or misinterpretation.\n",
      "  FutureWarning\n"
     ]
    },
    {
     "data": {
      "image/png": "[encoded data removed]",
      "text/plain": [
       "<Figure size 1152x360 with 1 Axes>"
      ]
     },
     "metadata": {
      "needs_background": "light"
     },
     "output_type": "display_data"
    }
   ],
   "source": [
    "# now need to check the same w.r.t Attrition variable.\n",
    "\n",
    "plt.figure(figsize=(16,5))\n",
    "\n",
    "sns.countplot(df['INTERNATIONAL_STS'], hue=df['Attrition'])\n",
    "\n",
    "plt.show()"
   ]
  },
  {
   "cell_type": "code",
   "execution_count": 127,
   "metadata": {},
   "outputs": [
    {
     "data": {
      "text/html": [
       "<div>\n",
       "<style scoped>\n",
       "    .dataframe tbody tr th:only-of-type {\n",
       "        vertical-align: middle;\n",
       "    }\n",
       "\n",
       "    .dataframe tbody tr th {\n",
       "        vertical-align: top;\n",
       "    }\n",
       "\n",
       "    .dataframe thead th {\n",
       "        text-align: right;\n",
       "    }\n",
       "</style>\n",
       "<table border=\"1\" class=\"dataframe\">\n",
       "  <thead>\n",
       "    <tr style=\"text-align: right;\">\n",
       "      <th>Attrition</th>\n",
       "      <th>0</th>\n",
       "      <th>1</th>\n",
       "    </tr>\n",
       "    <tr>\n",
       "      <th>INTERNATIONAL_STS</th>\n",
       "      <th></th>\n",
       "      <th></th>\n",
       "    </tr>\n",
       "  </thead>\n",
       "  <tbody>\n",
       "    <tr>\n",
       "      <td>N</td>\n",
       "      <td>2662</td>\n",
       "      <td>711</td>\n",
       "    </tr>\n",
       "    <tr>\n",
       "      <td>Y</td>\n",
       "      <td>15</td>\n",
       "      <td>12</td>\n",
       "    </tr>\n",
       "  </tbody>\n",
       "</table>\n",
       "</div>"
      ],
      "text/plain": [
       "Attrition             0    1\n",
       "INTERNATIONAL_STS           \n",
       "N                  2662  711\n",
       "Y                    15   12"
      ]
     },
     "execution_count": 127,
     "metadata": {},
     "output_type": "execute_result"
    }
   ],
   "source": [
    "pd.crosstab(index=df['INTERNATIONAL_STS'], columns=df['Attrition'])"
   ]
  },
  {
   "cell_type": "code",
   "execution_count": null,
   "metadata": {},
   "outputs": [],
   "source": []
  }
 ],
 "metadata": {
  "kernelspec": {
   "display_name": "Python 3",
   "language": "python",
   "name": "python3"
  },
  "language_info": {
   "codemirror_mode": {
    "name": "ipython",
    "version": 3
   },
   "file_extension": ".py",
   "mimetype": "text/x-python",
   "name": "python",
   "nbconvert_exporter": "python",
   "pygments_lexer": "ipython3",
   "version": "3.7.4"
  }
 },
 "nbformat": 4,
 "nbformat_minor": 2
}
